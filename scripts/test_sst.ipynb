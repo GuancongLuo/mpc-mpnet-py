{
 "cells": [
  {
   "cell_type": "code",
   "execution_count": 1,
   "metadata": {},
   "outputs": [],
   "source": [
    "import sys\n",
    "sys.path.append('/media/arclabdl1/HD1/Linjun/mpc-mpnet-py/deps/sparse_rrt-1')\n",
    "from sparse_rrt import _sst_module\n",
    "from sparse_rrt.systems import standard_cpp_systems\n",
    "\n",
    "import numpy as np\n",
    "import time"
   ]
  },
  {
   "cell_type": "code",
   "execution_count": 2,
   "metadata": {},
   "outputs": [
    {
     "name": "stdout",
     "output_type": "stream",
     "text": [
      "Time: 0.00s, Iterations: 0, Nodes: 2, Solution Quality: None\n",
      "Time: 0.37s, Iterations: 1000, Nodes: 917, Solution Quality: 14.700000000000003\n"
     ]
    }
   ],
   "source": [
    "# from sparse_rrt.experiments.experiment_utils import run_config\n",
    "# point_config = dict(\n",
    "#     system='point',\n",
    "#     planner='sst_backend',\n",
    "#     start_state=[9., 9.],\n",
    "#     goal_state=[-9., 9.],\n",
    "#     goal_radius=0.5,\n",
    "#     random_seed=100,\n",
    "#     integration_step=0.02,\n",
    "#     min_time_steps=2,\n",
    "#     max_time_steps=20,\n",
    "#     number_of_iterations=300000,\n",
    "#     display_type=None,\n",
    "#     sst_delta_near=0.2,\n",
    "#     sst_delta_drain=0.2\n",
    "# )\n",
    "# run_config(point_config)\n",
    "\n",
    "\n",
    "def test_sst_acrobot(min_time_steps, max_time_steps, integration_step, number_of_iterations):\n",
    "    '''\n",
    "    Test that runs are deterministic\n",
    "    '''\n",
    "    system = standard_cpp_systems.TwoLinkAcrobot()\n",
    "\n",
    "    def _create_planner(system):\n",
    "        return _sst_module.SSTBackendWrapper(\n",
    "            state_bounds=system.get_state_bounds(),\n",
    "            control_bounds=system.get_control_bounds(),\n",
    "            distance=system.distance_computer(),\n",
    "            start_state=np.array([0., 0., 0, 0,]),\n",
    "            goal_state=np.array([3, 0, 0, 0]),\n",
    "            goal_radius=10,\n",
    "            random_seed=0,\n",
    "            sst_delta_near=0.2,\n",
    "            sst_delta_drain=0.2\n",
    "        )\n",
    "    planner = _create_planner(system)\n",
    "    start_time = time.time()\n",
    "\n",
    "    for iteration in range(number_of_iterations):\n",
    "        planner.step(system, min_time_steps, max_time_steps, integration_step)\n",
    "        solution = planner.get_solution()\n",
    "        if iteration % 1000 == 0:\n",
    "            if solution is None:\n",
    "                solution_cost = None\n",
    "            else:\n",
    "                solution_cost = np.sum(solution[2])\n",
    "\n",
    "            print(\"Time: %.2fs, Iterations: %d, Nodes: %d, Solution Quality: %s\" %\n",
    "                  (time.time() - start_time, iteration, planner.get_number_of_nodes(), solution_cost))\n",
    "    return planner\n",
    "\n",
    "p = test_sst_acrobot(1, 100, 2e-2, 2000)"
   ]
  },
  {
   "cell_type": "code",
   "execution_count": 3,
   "metadata": {},
   "outputs": [
    {
     "data": {
      "text/plain": [
       "array([0., 0., 0., 0.])"
      ]
     },
     "execution_count": 3,
     "metadata": {},
     "output_type": "execute_result"
    }
   ],
   "source": [
    "p.nearest_vertex(np.array([0, 0, 0, 0]))"
   ]
  },
  {
   "cell_type": "code",
   "execution_count": 4,
   "metadata": {},
   "outputs": [],
   "source": [
    "p.add_to_tree(np.array([3, 0, 0, 0]), 6.2)"
   ]
  },
  {
   "cell_type": "code",
   "execution_count": 6,
   "metadata": {},
   "outputs": [
    {
     "data": {
      "text/plain": [
       "(array([[0., 0., 0., 0.],\n",
       "        [3., 0., 0., 0.]]),\n",
       " array([[4.65016409e-310]]),\n",
       " array([6.2]))"
      ]
     },
     "execution_count": 6,
     "metadata": {},
     "output_type": "execute_result"
    }
   ],
   "source": [
    "p.get_solution()"
   ]
  },
  {
   "cell_type": "code",
   "execution_count": null,
   "metadata": {},
   "outputs": [],
   "source": []
  }
 ],
 "metadata": {
  "kernelspec": {
   "display_name": "linjun",
   "language": "python",
   "name": "linjun"
  },
  "language_info": {
   "codemirror_mode": {
    "name": "ipython",
    "version": 3
   },
   "file_extension": ".py",
   "mimetype": "text/x-python",
   "name": "python",
   "nbconvert_exporter": "python",
   "pygments_lexer": "ipython3",
   "version": "3.8.2"
  }
 },
 "nbformat": 4,
 "nbformat_minor": 4
}
