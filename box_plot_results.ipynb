{
 "cells": [
  {
   "cell_type": "code",
   "execution_count": 20,
   "metadata": {},
   "outputs": [
    {
     "name": "stdout",
     "output_type": "stream",
     "text": [
      "(10, 100)\n",
      "[0. 0. 0. 0.]\n",
      "0.951\n",
      "3.7544291806823478\n",
      "4.893250864565057\n"
     ]
    },
    {
     "data": {
      "text/plain": [
       "(array([250., 159.,  90.,  63.,  62.,  32.,  30.,  27.,  32.,  26.,  23.,\n",
       "         15.,  18.,  19.,   7.,  12.,   3.,   9.,   5.,   5.,   7.,   1.,\n",
       "          3.,   3.,   7.,   4.,   3.,   7.,   1.,   4.,   1.,   0.,   1.,\n",
       "          0.,   2.,   1.,   2.,   1.,   3.,   1.,   2.,   0.,   1.,   0.,\n",
       "          1.,   1.,   2.,   0.,   3.,   2.]),\n",
       " array([ 0.19666173,  0.78615585,  1.37564998,  1.9651441 ,  2.55463823,\n",
       "         3.14413236,  3.73362648,  4.32312061,  4.91261473,  5.50210886,\n",
       "         6.09160298,  6.68109711,  7.27059123,  7.86008536,  8.44957948,\n",
       "         9.03907361,  9.62856774, 10.21806186, 10.80755599, 11.39705011,\n",
       "        11.98654424, 12.57603836, 13.16553249, 13.75502661, 14.34452074,\n",
       "        14.93401487, 15.52350899, 16.11300312, 16.70249724, 17.29199137,\n",
       "        17.88148549, 18.47097962, 19.06047374, 19.64996787, 20.23946199,\n",
       "        20.82895612, 21.41845025, 22.00794437, 22.5974385 , 23.18693262,\n",
       "        23.77642675, 24.36592087, 24.955415  , 25.54490912, 26.13440325,\n",
       "        26.72389738, 27.3133915 , 27.90288563, 28.49237975, 29.08187388,\n",
       "        29.671368  ]),\n",
       " <a list of 50 Patch objects>)"
      ]
     },
     "execution_count": 20,
     "metadata": {},
     "output_type": "execute_result"
    },
    {
     "data": {
      "image/png": "[encoded data removed]",
      "text/plain": [
       "<Figure size 432x288 with 1 Axes>"
      ]
     },
     "metadata": {},
     "output_type": "display_data"
    }
   ],
   "source": [
    "import matplotlib.pyplot as plt\n",
    "import numpy as np\n",
    "\n",
    "# load results\n",
    "res_path = '/media/arclabdl1/HD1/YLmiao/mpc-mpnet-cuda-yinglong/results/cpp_full/acrobot_obs/default_small_model_batch/'\n",
    "time = np.load(res_path+'time_10_100.npy', allow_pickle=True)\n",
    "sr = np.load(res_path+'sr_10_100.npy', allow_pickle=True)\n",
    "cost = np.load(res_path+'costs_10_100.npy', allow_pickle=True)\n",
    "\n",
    "\n",
    "sst_res_path = '/home/arclabdl1/YLmiao/kinodynamics/KinoMPNet/plan_results/acrobot_obs_sst/'\n",
    "sst_time = np.load(sst_res_path+'plan_time.npy', allow_pickle=True)\n",
    "sst_time = sst_time[:,100:]# for acrobot_obs only\n",
    "print(sst_time.shape)\n",
    "\n",
    "\n",
    "#seq_res_path = '/media/arclabdl1/HD1/Linjun/mpc-mpnet-py/results/cpp_full/cartpole_obs/default2.bk/'\n",
    "# seq_res_path = '/media/arclabdl1/HD1/Linjun/mpc-mpnet-py/results/cpp_full/acrobot_obs/default.bk/'\n",
    "seq_res_path = '/media/arclabdl1/HD1/Linjun/mpc-mpnet-py/results/cpp_full/acrobot_obs/default2/'\n",
    "\n",
    "seq_time = np.load(seq_res_path+'time_10_100.npy', allow_pickle=True)\n",
    "seq_sr = np.load(seq_res_path+'sr_10_100.npy', allow_pickle=True)\n",
    "seq_cost = np.load(seq_res_path+'costs_10_100.npy', allow_pickle=True)\n",
    "\n",
    "\n",
    "\n",
    "time = time.reshape(-1)\n",
    "sr = sr.reshape(-1)\n",
    "cost = cost.reshape(-1)\n",
    "print(cost[sr==0])\n",
    "sr[time >= 30] = 0\n",
    "time[time >= 30] = 0\n",
    "cost[time >= 30] = 0.\n",
    "print(sr.mean())\n",
    "\n",
    "time = time[time!=0]\n",
    "print(time.mean())\n",
    "print(time.std())\n",
    "plt.hist(time, bins=50)\n"
   ]
  },
  {
   "cell_type": "code",
   "execution_count": 21,
   "metadata": {},
   "outputs": [
    {
     "name": "stdout",
     "output_type": "stream",
     "text": [
      "[0. 0. 0. 0. 0. 0. 0. 0. 0. 0. 0. 0. 0. 0. 0. 0. 0. 0. 0. 0. 0. 0. 0. 0.\n",
      " 0. 0. 0. 0. 0. 0. 0. 0. 0. 0. 0. 0. 0. 0. 0. 0. 0. 0. 0. 0. 0. 0. 0. 0.\n",
      " 0. 0. 0. 0. 0. 0. 0. 0. 0. 0. 0. 0. 0. 0. 0. 0. 0. 0. 0. 0. 0. 0. 0. 0.\n",
      " 0. 0. 0. 0. 0. 0. 0. 0. 0. 0. 0. 0. 0. 0. 0. 0. 0. 0. 0.]\n",
      "0.875\n",
      "5.395269062076296\n",
      "6.19089604678272\n"
     ]
    },
    {
     "data": {
      "text/plain": [
       "(array([104., 117.,  98.,  69.,  54.,  40.,  49.,  30.,  29.,  29.,  12.,\n",
       "         18.,  24.,  14.,   9.,  11.,   9.,  12.,  11.,  11.,   9.,  10.,\n",
       "          7.,  10.,   3.,   5.,  10.,   2.,   6.,   5.,   0.,   3.,   5.,\n",
       "          4.,   4.,   3.,   2.,   4.,   2.,   3.,   2.,   4.,   4.,   1.,\n",
       "          4.,   2.,   3.,   3.,   3.,   2.]),\n",
       " array([ 0.05945952,  0.63776206,  1.2160646 ,  1.79436715,  2.37266969,\n",
       "         2.95097223,  3.52927478,  4.10757732,  4.68587986,  5.26418241,\n",
       "         5.84248495,  6.42078749,  6.99909003,  7.57739258,  8.15569512,\n",
       "         8.73399766,  9.31230021,  9.89060275, 10.46890529, 11.04720784,\n",
       "        11.62551038, 12.20381292, 12.78211546, 13.36041801, 13.93872055,\n",
       "        14.51702309, 15.09532564, 15.67362818, 16.25193072, 16.83023327,\n",
       "        17.40853581, 17.98683835, 18.5651409 , 19.14344344, 19.72174598,\n",
       "        20.30004852, 20.87835107, 21.45665361, 22.03495615, 22.6132587 ,\n",
       "        23.19156124, 23.76986378, 24.34816633, 24.92646887, 25.50477141,\n",
       "        26.08307395, 26.6613765 , 27.23967904, 27.81798158, 28.39628413,\n",
       "        28.97458667]),\n",
       " <a list of 50 Patch objects>)"
      ]
     },
     "execution_count": 21,
     "metadata": {},
     "output_type": "execute_result"
    },
    {
     "data": {
      "image/png": "[encoded data removed]",
      "text/plain": [
       "<Figure size 432x288 with 1 Axes>"
      ]
     },
     "metadata": {},
     "output_type": "display_data"
    }
   ],
   "source": [
    "seq_time = seq_time.reshape(-1)\n",
    "seq_sr = seq_sr.reshape(-1)\n",
    "seq_cost = seq_cost.reshape(-1)\n",
    "print(seq_cost[seq_sr==0])\n",
    "seq_sr[seq_time >= 30] = 0\n",
    "seq_time[seq_time >= 30] = 0\n",
    "seq_cost[seq_time >= 30] = 0.\n",
    "print(seq_sr.mean())\n",
    "\n",
    "seq_time = seq_time[seq_time!=0]\n",
    "print(seq_time.mean())\n",
    "print(seq_time.std())\n",
    "plt.hist(seq_time, bins=50)\n"
   ]
  },
  {
   "cell_type": "code",
   "execution_count": 22,
   "metadata": {},
   "outputs": [
    {
     "data": {
      "text/plain": [
       "<matplotlib.axes._subplots.AxesSubplot at 0x7ff86c0593a0>"
      ]
     },
     "execution_count": 22,
     "metadata": {},
     "output_type": "execute_result"
    },
    {
     "data": {
      "image/png": "[encoded data removed]",
      "text/plain": [
       "<Figure size 432x288 with 1 Axes>"
      ]
     },
     "metadata": {},
     "output_type": "display_data"
    }
   ],
   "source": [
    "# !pip install seaborn\n",
    "import seaborn as sns\n",
    "\n",
    "sns.set()\n",
    "\n",
    "#plt.boxplot(time, notch=True, patch_artist=True, meanline=True, showmeans=True)\n",
    "sns.boxplot( y=time )"
   ]
  },
  {
   "cell_type": "code",
   "execution_count": 23,
   "metadata": {},
   "outputs": [
    {
     "name": "stdout",
     "output_type": "stream",
     "text": [
      "7.68987951807229\n",
      "1.6344635419064735\n"
     ]
    },
    {
     "data": {
      "text/plain": [
       "<matplotlib.axes._subplots.AxesSubplot at 0x7ff86c019f40>"
      ]
     },
     "execution_count": 23,
     "metadata": {},
     "output_type": "execute_result"
    },
    {
     "data": {
      "image/png": "[encoded data removed]",
      "text/plain": [
       "<Figure size 432x288 with 1 Axes>"
      ]
     },
     "metadata": {},
     "output_type": "display_data"
    }
   ],
   "source": [
    "cost = cost[cost>1e-4]\n",
    "print(cost.mean())\n",
    "print(cost.std())\n",
    "sns.boxplot( y=time )"
   ]
  },
  {
   "cell_type": "code",
   "execution_count": 24,
   "metadata": {},
   "outputs": [
    {
     "data": {
      "image/png": "[encoded data removed]",
      "text/plain": [
       "<Figure size 432x288 with 1 Axes>"
      ]
     },
     "metadata": {},
     "output_type": "display_data"
    }
   ],
   "source": [
    "#%% libraries\n",
    "import matplotlib.pyplot as plt\n",
    "import numpy as np\n",
    "import pickle\n",
    "import seaborn as sns\n",
    "import pandas as pd\n",
    "\n",
    "#%% load data\n",
    "data = [seq_time, time, sst_time]\n",
    "# compnet_data = np.load(\"data/compnet.npy\")\n",
    "# atlasrrt_data = pd.read_excel(\"data/result.xlsx\", sheet_name=\"Sheet6\")[\"total\"].to_numpy()\n",
    "# atlasrrt_data = atlasrrt_data[np.isfinite(atlasrrt_data)]\n",
    "# tbrrt_data = pd.read_excel(\"data/result.xlsx\", sheet_name=\"Sheet7\")[\"total\"].to_numpy()\n",
    "# tbrrt_data = tbrrt_data[np.isfinite(tbrrt_data)]\n",
    "# projrrt_data = pd.read_excel(\"data/result.xlsx\", sheet_name=\"Sheet8\")[\"total\"].to_numpy()\n",
    "# projrrt_data = projrrt_data[np.isfinite(projrrt_data)]\n",
    "# data = [compnet_data, atlasrrt_data, tbrrt_data, projrrt_data]\n",
    "\n",
    "#%% seaborn plot\n",
    "sns.set(style=\"whitegrid\")\n",
    "#ax = sns.boxplot(data=data, whis=[0, 100], palette=\"BuGn_r\", width=0.5)\n",
    "ax = sns.boxplot(data=data, palette=\"BuGn_r\", width=0.5, fliersize=.8, showfliers=False)\n",
    "ax.set(xticklabels=[\"MPC-MPNetPath\", \"MPC-MPNetTree\",\"SST\"])\n",
    "sns.despine(left=True, bottom=True)\n",
    "plt.ylabel(\"time (seconds)\")\n",
    "#plt.savefig(\"tpp.pdf\", format=\"pdf\")\n",
    "plt.show()\n"
   ]
  },
  {
   "cell_type": "code",
   "execution_count": null,
   "metadata": {
    "collapsed": true
   },
   "outputs": [],
   "source": []
  }
 ],
 "metadata": {
  "anaconda-cloud": {},
  "kernelspec": {
   "display_name": "linjun",
   "language": "python",
   "name": "linjun"
  },
  "language_info": {
   "codemirror_mode": {
    "name": "ipython",
    "version": 3
   },
   "file_extension": ".py",
   "mimetype": "text/x-python",
   "name": "python",
   "nbconvert_exporter": "python",
   "pygments_lexer": "ipython3",
   "version": "3.8.2"
  }
 },
 "nbformat": 4,
 "nbformat_minor": 1
}
