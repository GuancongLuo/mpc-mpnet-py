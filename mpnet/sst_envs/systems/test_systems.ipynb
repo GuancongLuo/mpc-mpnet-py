{
 "cells": [
  {
   "cell_type": "code",
   "execution_count": 4,
   "metadata": {},
   "outputs": [
    {
     "data": {
      "text/plain": [
       "array([-0.50301444,  1.74423944,  0.56988041,  0.87424303])"
      ]
     },
     "execution_count": 4,
     "metadata": {},
     "output_type": "execute_result"
    }
   ],
   "source": [
    "from acrobot import Acrobot\n",
    "import numpy as np\n",
    "\n",
    "model = Acrobot()\n",
    "\n",
    "start_state = np.zeros(4)\n",
    "dt = 2e-3\n",
    "control = 5 * np.ones(1)\n",
    "num_steps = int(1/dt)\n",
    "\n",
    "model.propagate(start_state, control, num_steps, dt)"
   ]
  },
  {
   "cell_type": "code",
   "execution_count": 5,
   "metadata": {},
   "outputs": [
    {
     "data": {
      "text/plain": [
       "array([-0.54331754,  0.76988538,  0.61460835,  0.06399756])"
      ]
     },
     "execution_count": 5,
     "metadata": {},
     "output_type": "execute_result"
    }
   ],
   "source": [
    "model.propagate(np.array([0.024715, -0.46927478, -1.58452605 , 2.52628692]), np.array([0.6688]), int(0.62/2e-2), 2e-2)"
   ]
  },
  {
   "cell_type": "code",
   "execution_count": null,
   "metadata": {},
   "outputs": [],
   "source": []
  }
 ],
 "metadata": {
  "kernelspec": {
   "display_name": "Python 3",
   "language": "python",
   "name": "python3"
  },
  "language_info": {
   "codemirror_mode": {
    "name": "ipython",
    "version": 3
   },
   "file_extension": ".py",
   "mimetype": "text/x-python",
   "name": "python",
   "nbconvert_exporter": "python",
   "pygments_lexer": "ipython3",
   "version": "3.5.2"
  }
 },
 "nbformat": 4,
 "nbformat_minor": 4
}
