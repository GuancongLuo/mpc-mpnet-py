{
 "cells": [
  {
   "cell_type": "code",
   "execution_count": 1,
   "metadata": {},
   "outputs": [],
   "source": [
    "import numpy as np\n",
    "from mpnet.sst_envs.utils import load_data, get_obs\n",
    "import pickle\n",
    "import time\n",
    "import click\n",
    "from tqdm.auto import tqdm\n",
    "from pathlib import Path\n",
    "import importlib\n",
    "from matplotlib import pyplot as plt\n",
    "\n",
    "import sys\n",
    "sys.path.append('/media/arclabdl1/HD1/Linjun/mpc-mpnet-py/deps/sparse_rrt-1')\n",
    "\n",
    "from sparse_rrt import _deep_smp_module"
   ]
  },
  {
   "cell_type": "code",
   "execution_count": null,
   "metadata": {},
   "outputs": [],
   "source": [
    "planner_params = {\n",
    "    'solver_type': \"none\",\n",
    "    'system_type': \"quadortor_obs\",\n",
    "    'start_state': np.array([0, 0, 0,\n",
    "                             0, 0, 0, 0,\n",
    "                             0, 0, 0,\n",
    "                             0, 0, 0]),\n",
    "    'goal_state': np.array([5, 5, 5, \n",
    "                            0, 0, 0, 0,\n",
    "                            0, 0, 0, \n",
    "                            0, 0, 0]),\n",
    "    'goal_radius': 2,\n",
    "    'random_seed': 0,\n",
    "    'sst_delta_near': 0.5,\n",
    "    'sst_delta_drain': 0.5,\n",
    "    'obs_list': np.array([[1,2,3]]),\n",
    "    'width': 0,\n",
    "    'verbose': False,\n",
    "    'mpnet_weight_path': \"mpnet/exported/output/cartpole_obs/mpnet_10k_external_small_model.pt\", \n",
    "    'cost_predictor_weight_path': \"mpnet/exported/output/cartpole_obs/cost_10k.pt\",\n",
    "    'cost_to_go_predictor_weight_path': \"mpnet/exported/output/cartpole_obs/cost_to_go_obs.pt\",\n",
    "    'num_sample': 1,\n",
    "    'weights_array': np.array([1, 1, 1,\n",
    "                             0.5, 0.5, 0.5, 0.5,\n",
    "                             0.2, 0.2, 0.2, \n",
    "                             0.2, 0.2, 0.2]),\n",
    "    'obs_voxel_array': []\n",
    "}\n",
    "\n",
    "\n",
    "planner = _deep_smp_module.DSSTMPCWrapper(**planner_params)"
   ]
  },
  {
   "cell_type": "code",
   "execution_count": null,
   "metadata": {},
   "outputs": [],
   "source": []
  },
  {
   "cell_type": "code",
   "execution_count": null,
   "metadata": {},
   "outputs": [],
   "source": []
  }
 ],
 "metadata": {
  "kernelspec": {
   "display_name": "linjun",
   "language": "python",
   "name": "linjun"
  },
  "language_info": {
   "codemirror_mode": {
    "name": "ipython",
    "version": 3
   },
   "file_extension": ".py",
   "mimetype": "text/x-python",
   "name": "python",
   "nbconvert_exporter": "python",
   "pygments_lexer": "ipython3",
   "version": "3.8.2"
  }
 },
 "nbformat": 4,
 "nbformat_minor": 4
}
