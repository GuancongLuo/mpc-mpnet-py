{
 "cells": [
  {
   "cell_type": "code",
   "execution_count": 1,
   "metadata": {},
   "outputs": [],
   "source": [
    "import numpy as np\n",
    "from mpnet.sst_envs.utils import load_data, get_obs\n",
    "import pickle\n",
    "import time\n",
    "import click\n",
    "from tqdm.auto import tqdm\n",
    "from pathlib import Path\n",
    "import importlib\n",
    "from matplotlib import pyplot as plt\n",
    "\n",
    "import sys\n",
    "sys.path.append('/media/arclabdl1/HD1/Linjun/mpc-mpnet-py/deps/sparse_rrt-1')\n",
    "\n",
    "from sparse_rrt import _deep_smp_module\n",
    "\n",
    "from tqdm.notebook import tqdm"
   ]
  },
  {
   "cell_type": "code",
   "execution_count": 2,
   "metadata": {},
   "outputs": [],
   "source": [
    "params = {\n",
    "        'n_sample': 32,\n",
    "        'n_elite': 4,\n",
    "        'n_t': 1,\n",
    "        'max_it': 3,\n",
    "        'converge_r': 1e-1,\n",
    "    \n",
    "        'dt': 2e-2,\n",
    "\n",
    "        'mu_u': 0,\n",
    "        'sigma_u': 400,\n",
    "\n",
    "        'mu_t': 0.4,\n",
    "        'sigma_t': 0.5,\n",
    "        't_max': 0.6,\n",
    "\n",
    "        'verbose': True,# False,#\n",
    "        'step_size': 0.8,\n",
    "\n",
    "        \"goal_radius\": 1.5,\n",
    "\n",
    "        \"sst_delta_near\": 2.0,\n",
    "        \"sst_delta_drain\": 1.2,\n",
    "        \"goal_bias\": 0.05,\n",
    "\n",
    "        \"width\": 4,\n",
    "        \"hybrid\": False,#True,# \n",
    "        \"hybrid_p\": 0.,\n",
    "        \n",
    "        \"min_time_steps\": 10,\n",
    "        \"max_time_steps\": 200,\n",
    "    \n",
    "        \"cost_samples\": 10,\n",
    "        \"mpnet_weight_path\":\"mpnet/exported/output/cartpole_obs/mpnet_10k_external_small_model.pt\",\n",
    "        \"cost_predictor_weight_path\": \"mpnet/exported/output/cartpole_obs/cost_10k.pt\",\n",
    "        \"cost_to_go_predictor_weight_path\": \"mpnet/exported/output/cartpole_obs/cost_to_go_10k.pt\",\n",
    "\n",
    "        \"refine\": False,\n",
    "        \"using_one_step_cost\": False,\n",
    "        \"refine_lr\": 0,\n",
    "        \"refine_threshold\": 0,\n",
    "        \"device_id\": \"cuda:0\",\n",
    "\n",
    "        \"cost_reselection\": False,\n",
    "        \"number_of_iterations\": 10000,\n",
    "        \"weights_array\": [1.0, 0.5, 1, 0.5],\n",
    "\n",
    "    }\n",
    "system = \"quadrotor_obs\"\n",
    "\n",
    "planner = _deep_smp_module.DSSTMPCWrapper(\n",
    "        system,\n",
    "        start_state=np.array([0, 0, 0,\n",
    "                              0, 0, 0, 0,\n",
    "                              0, 0, 0,\n",
    "                              0, 0, 0]),\n",
    "        goal_state=np.array([0, 0, 3,\n",
    "                             0, 0, 0, 0,\n",
    "                             0, 0, 0,\n",
    "                             0, 0, 0]),\n",
    "        goal_radius=params['goal_radius'],\n",
    "        random_seed=0,\n",
    "        sst_delta_near=params['sst_delta_near'],\n",
    "        sst_delta_drain=params['sst_delta_drain'],\n",
    "        obs_list=np.array([[]]),\n",
    "        width=params['width'],\n",
    "        verbose=params['verbose'],\n",
    "        mpnet_weight_path=params['mpnet_weight_path'], \n",
    "        cost_predictor_weight_path=params['cost_predictor_weight_path'],\n",
    "        cost_to_go_predictor_weight_path=params['cost_to_go_predictor_weight_path'],\n",
    "        num_sample=params['cost_samples'],\n",
    "        ns=params['n_sample'], nt=params['n_t'], ne=params['n_elite'], max_it=params['max_it'],\n",
    "        converge_r=params['converge_r'], mu_u=params['mu_u'], std_u=params['sigma_u'], mu_t=params['mu_t'], \n",
    "        std_t=params['sigma_t'], t_max=params['t_max'], step_size=params['step_size'], integration_step=params['dt'], \n",
    "        device_id=params['device_id'], refine_lr=params['refine_lr'],\n",
    "        weights_array=params['weights_array'],\n",
    "#         obs_voxel_array=obc.reshape(-1)\n",
    "    )"
   ]
  },
  {
   "cell_type": "code",
   "execution_count": null,
   "metadata": {},
   "outputs": [],
   "source": [
    "for i in tqdm(range(60000)):\n",
    "    planner.step(1, 20, params['dt'])\n",
    "    solution = planner.get_solution()\n",
    "#     print(solution)\n",
    "    if solution is not None:\n",
    "        break"
   ]
  },
  {
   "cell_type": "code",
   "execution_count": null,
   "metadata": {},
   "outputs": [],
   "source": [
    "solution"
   ]
  },
  {
   "cell_type": "code",
   "execution_count": null,
   "metadata": {},
   "outputs": [],
   "source": []
  },
  {
   "cell_type": "code",
   "execution_count": null,
   "metadata": {},
   "outputs": [],
   "source": []
  },
  {
   "cell_type": "code",
   "execution_count": null,
   "metadata": {},
   "outputs": [],
   "source": []
  }
 ],
 "metadata": {
  "kernelspec": {
   "display_name": "linjun",
   "language": "python",
   "name": "linjun"
  },
  "language_info": {
   "codemirror_mode": {
    "name": "ipython",
    "version": 3
   },
   "file_extension": ".py",
   "mimetype": "text/x-python",
   "name": "python",
   "nbconvert_exporter": "python",
   "pygments_lexer": "ipython3",
   "version": "3.8.2"
  }
 },
 "nbformat": 4,
 "nbformat_minor": 4
}
