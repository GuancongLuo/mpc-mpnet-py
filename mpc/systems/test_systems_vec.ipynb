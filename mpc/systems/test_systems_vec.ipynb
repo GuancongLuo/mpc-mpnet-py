{
 "cells": [
  {
   "cell_type": "code",
   "execution_count": 4,
   "metadata": {},
   "outputs": [
    {
     "name": "stdout",
     "output_type": "stream",
     "text": [
      "[[-0.50301444  1.74423944  0.56988041  0.87424303]\n",
      " [-0.50301444  1.74423944  0.56988041  0.87424303]\n",
      " [-0.50301444  1.74423944  0.56988041  0.87424303]\n",
      " [-0.50301444  1.74423944  0.56988041  0.87424303]] [-0.50301444,  1.74423944,  0.56988041,  0.87424303]\n"
     ]
    }
   ],
   "source": [
    "from acrobot_vec import Acrobot\n",
    "import numpy as np\n",
    "\n",
    "model = Acrobot()\n",
    "\n",
    "start_state = np.zeros((4, 4))\n",
    "dt = 2e-3\n",
    "control = 5 * np.ones((4, 1))\n",
    "num_steps = int(1/dt)\n",
    "\n",
    "print(model.propagate(start_state, control, num_steps, dt), \"[-0.50301444,  1.74423944,  0.56988041,  0.87424303]\")"
   ]
  },
  {
   "cell_type": "code",
   "execution_count": 2,
   "metadata": {},
   "outputs": [],
   "source": [
    "import pickle\n",
    " \n",
    "def load_data(model, env, traj_id):\n",
    "    filepath = lambda var: \"/media/arclabdl1/HD1/Linjun/data/kinodynamic/{model}/{env}/{var}_{id}.pkl\".format(model=model,env=env, var=var, id=traj_id)      \n",
    "    load_pkl = lambda var: pickle.load(open(filepath(var), \"rb\"))\n",
    "    keys = [\"control\", \"path\", \"start_goal\", \"time\", 'cost']\n",
    "    return dict(zip(keys, [load_pkl(key) for key in keys]))\n",
    " \n",
    "data = load_data('acrobot_obs', 0, 0)\n",
    "path = data['path']"
   ]
  },
  {
   "cell_type": "code",
   "execution_count": 3,
   "metadata": {},
   "outputs": [],
   "source": [
    "def get_obs(model, filetype):\n",
    "    def filepath (model, env_id, filetype):\n",
    "            return \"/media/arclabdl1/HD1/Linjun/data/kinodynamic/{model}/{filetype}_{env_id}.pkl\".format(model=model, env_id=env_id, filetype=filetype)\n",
    "    def loader(model, env_id, filetype): \n",
    "        return pickle.load(open(filepath(model, env_id, filetype), \"rb\"))\n",
    "    #obs_list = [loader(model, env_id, \"obs\") for env_id in range(10)]\n",
    "    obs_list = np.array([loader(model, env_id, \"obs\").reshape(-1, 2) for env_id in range(10)])\n",
    "    return obs_list\n",
    "obs_list = get_obs('acrobot_obs', 0)\n",
    "# obs_list"
   ]
  },
  {
   "cell_type": "code",
   "execution_count": 1,
   "metadata": {},
   "outputs": [
    {
     "ename": "NameError",
     "evalue": "name 'model' is not defined",
     "output_type": "error",
     "traceback": [
      "\u001b[0;31m---------------------------------------------------------------------------\u001b[0m",
      "\u001b[0;31mNameError\u001b[0m                                 Traceback (most recent call last)",
      "\u001b[0;32m<ipython-input-1-6c16864ca361>\u001b[0m in \u001b[0;36m<module>\u001b[0;34m()\u001b[0m\n\u001b[1;32m      1\u001b[0m \u001b[0menv_id\u001b[0m \u001b[0;34m=\u001b[0m \u001b[0;36m0\u001b[0m\u001b[0;34m\u001b[0m\u001b[0m\n\u001b[0;32m----> 2\u001b[0;31m \u001b[0mprint\u001b[0m\u001b[0;34m(\u001b[0m\u001b[0mmodel\u001b[0m\u001b[0;34m.\u001b[0m\u001b[0mvalid_state\u001b[0m\u001b[0;34m(\u001b[0m\u001b[0mpath\u001b[0m\u001b[0;34m[\u001b[0m\u001b[0;36m0\u001b[0m\u001b[0;34m:\u001b[0m\u001b[0;36m2\u001b[0m\u001b[0;34m]\u001b[0m\u001b[0;34m,\u001b[0m \u001b[0mobs_list\u001b[0m\u001b[0;34m[\u001b[0m\u001b[0menv_id\u001b[0m\u001b[0;34m]\u001b[0m\u001b[0;34m)\u001b[0m\u001b[0;34m,\u001b[0m \u001b[0;34m\"should be [True, True]\"\u001b[0m\u001b[0;34m)\u001b[0m\u001b[0;34m\u001b[0m\u001b[0m\n\u001b[0m\u001b[1;32m      3\u001b[0m \u001b[0mprint\u001b[0m\u001b[0;34m(\u001b[0m\u001b[0mmodel\u001b[0m\u001b[0;34m.\u001b[0m\u001b[0mvalid_state\u001b[0m\u001b[0;34m(\u001b[0m\u001b[0mpath\u001b[0m\u001b[0;34m[\u001b[0m\u001b[0;36m0\u001b[0m\u001b[0;34m:\u001b[0m\u001b[0;36m2\u001b[0m\u001b[0;34m]\u001b[0m\u001b[0;34m,\u001b[0m \u001b[0mnp\u001b[0m\u001b[0;34m.\u001b[0m\u001b[0marray\u001b[0m\u001b[0;34m(\u001b[0m\u001b[0;34m[\u001b[0m\u001b[0;34m[\u001b[0m\u001b[0;36m0\u001b[0m\u001b[0;34m,\u001b[0m \u001b[0;36m0\u001b[0m\u001b[0;34m]\u001b[0m\u001b[0;34m,\u001b[0m \u001b[0;34m[\u001b[0m\u001b[0;36m100\u001b[0m\u001b[0;34m,\u001b[0m \u001b[0;36m100\u001b[0m\u001b[0;34m]\u001b[0m\u001b[0;34m]\u001b[0m\u001b[0;34m)\u001b[0m\u001b[0;34m)\u001b[0m\u001b[0;34m,\u001b[0m \u001b[0;34m\"should be [False, False]\"\u001b[0m\u001b[0;34m)\u001b[0m\u001b[0;34m\u001b[0m\u001b[0m\n",
      "\u001b[0;31mNameError\u001b[0m: name 'model' is not defined"
     ]
    }
   ],
   "source": [
    "env_id = 0\n",
    "print(model.valid_state(path[0:2], obs_list[env_id]), \"should be [True, True]\")\n",
    "print(model.valid_state(path[0:2], np.array([[0, 0], [100, 100]])), \"should be [False, False]\")"
   ]
  },
  {
   "cell_type": "code",
   "execution_count": 5,
   "metadata": {},
   "outputs": [
    {
     "name": "stdout",
     "output_type": "stream",
     "text": [
      "[ 0.75361788 -1.72460691]\n"
     ]
    },
    {
     "data": {
      "text/plain": [
       "array([4.55021196, 5.97158282])"
      ]
     },
     "execution_count": 5,
     "metadata": {},
     "output_type": "execute_result"
    }
   ],
   "source": [
    "model.get_loss(path[:2,:], path[-1], [1, 1, 0.5, 0.5])"
   ]
  },
  {
   "cell_type": "code",
   "execution_count": 1,
   "metadata": {},
   "outputs": [
    {
     "name": "stdout",
     "output_type": "stream",
     "text": [
      "[[-0.50301444  1.74423944  0.56988041  0.87424303]\n",
      " [-0.01393241  2.22872942 -0.70488269  1.20547831]\n",
      " [-0.43757336 -2.87112708  0.91750404  0.91190527]\n",
      " [-0.74730027  0.92667683 -1.40051652  5.2341118 ]] [-0.50301444,  1.74423944,  0.56988041,  0.87424303]\n"
     ]
    }
   ],
   "source": [
    "import numpy as np\n",
    "from acrobot_vec_tv import Acrobot\n",
    "model = Acrobot()\n",
    "\n",
    "start_state = np.zeros((4, 4))\n",
    "dt = 2e-3\n",
    "control = 5 * np.ones((4, 1))\n",
    "num_steps = np.ones(4)/dt\n",
    "num_steps[1] *= 2\n",
    "num_steps[2] *= 3\n",
    "num_steps[3] *= 4\n",
    "\n",
    "\n",
    "print(model.propagate(start_state, control, num_steps, dt), \"[-0.50301444,  1.74423944,  0.56988041,  0.87424303]\")"
   ]
  },
  {
   "cell_type": "code",
   "execution_count": null,
   "metadata": {},
   "outputs": [],
   "source": []
  }
 ],
 "metadata": {
  "kernelspec": {
   "display_name": "Python 3",
   "language": "python",
   "name": "python3"
  },
  "language_info": {
   "codemirror_mode": {
    "name": "ipython",
    "version": 3
   },
   "file_extension": ".py",
   "mimetype": "text/x-python",
   "name": "python",
   "nbconvert_exporter": "python",
   "pygments_lexer": "ipython3",
   "version": "3.5.2"
  }
 },
 "nbformat": 4,
 "nbformat_minor": 4
}
